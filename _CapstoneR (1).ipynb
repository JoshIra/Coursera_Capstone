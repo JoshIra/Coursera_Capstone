{
 "cells": [
  {
   "cell_type": "markdown",
   "metadata": {},
   "source": [
    "# Introduction/Business Problem"
   ]
  },
  {
   "cell_type": "markdown",
   "metadata": {},
   "source": [
    "### There seems to be an issue where there needs to be an re-arrangement of traffic lights around New York City. This is a problem that occurs in the city where car accidents occur frequently, stop signs are ignored often, the safety of a pedestrian is affected, and other mishaps that occur due to the lack of traffic lights. Creating more traffic lights in New York City would work towards assurance of human safety. The traffic lights also help New York City to become organized city. The city practically runs itself, as the drivers of the vehicles on the road dictate what occurs when driving. The problem with this operation is that it may lead to construction that may increase likeliness of mishaps that occur with the lack of traffic lights. The traffic light system may also require pedestrian assistance when crossing streets, which requires for a cross-walk system. With all these operations must also require a budget and it may or may not come from the central government."
   ]
  },
  {
   "cell_type": "code",
   "execution_count": null,
   "metadata": {},
   "outputs": [],
   "source": []
  }
 ],
 "metadata": {
  "kernelspec": {
   "display_name": "Python 3",
   "language": "python",
   "name": "python3"
  },
  "language_info": {
   "codemirror_mode": {
    "name": "ipython",
    "version": 3
   },
   "file_extension": ".py",
   "mimetype": "text/x-python",
   "name": "python",
   "nbconvert_exporter": "python",
   "pygments_lexer": "ipython3",
   "version": "3.6.6"
  }
 },
 "nbformat": 4,
 "nbformat_minor": 2
}
