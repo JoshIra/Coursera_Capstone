{
 "cells": [
  {
   "cell_type": "markdown",
   "metadata": {},
   "source": [
    "# Establishing Connections"
   ]
  },
  {
   "cell_type": "code",
   "execution_count": 1,
   "metadata": {},
   "outputs": [],
   "source": [
    "import pandas as pd\n",
    "from io import StringIO\n",
    "from bs4 import BeautifulSoup\n",
    "import requests"
   ]
  },
  {
   "cell_type": "markdown",
   "metadata": {},
   "source": [
    "# Connecting to Wikipedia"
   ]
  },
  {
   "cell_type": "code",
   "execution_count": 3,
   "metadata": {},
   "outputs": [],
   "source": [
    "source = requests.get('https://en.wikipedia.org/wiki/List_of_postal_codes_of_Canada:_M').text\n",
    "soup = BeautifulSoup(source, 'lxml')\n",
    "table_content = soup.find('table').text"
   ]
  },
  {
   "cell_type": "markdown",
   "metadata": {},
   "source": [
    "# Collecting Assignments"
   ]
  },
  {
   "cell_type": "code",
   "execution_count": 6,
   "metadata": {},
   "outputs": [
    {
     "name": "stdout",
     "output_type": "stream",
     "text": [
      "['Postcode', 'Borough', 'Neighbourhood', 'M1A', 'Not assigned', 'Not assigned', 'M2A', 'Not assigned', 'Not assigned', 'M3A', 'North York', 'Parkwoods', 'M4A', 'North York', 'Victoria Village', 'M5A', 'Downtown Toronto', 'Harbourfront', 'M5A', 'Downtown Toronto']\n"
     ]
    }
   ],
   "source": [
    "table_list = table_content.split('\\n')\n",
    "\n",
    "table_list = list(filter(None, table_list))\n",
    "print(table_list[:20])\n",
    "labels = ['PostalCode', 'Borough', 'Neighborhood']\n",
    "records = table_list[3:]"
   ]
  },
  {
   "cell_type": "code",
   "execution_count": 7,
   "metadata": {},
   "outputs": [
    {
     "data": {
      "text/plain": [
       "[('M1A', 'Not assigned', 'Not assigned'),\n",
       " ('M2A', 'Not assigned', 'Not assigned'),\n",
       " ('M3A', 'North York', 'Parkwoods')]"
      ]
     },
     "execution_count": 7,
     "metadata": {},
     "output_type": "execute_result"
    }
   ],
   "source": [
    "column1 = []\n",
    "for i in range(0,len(records)):\n",
    "        if i%3 == 0:\n",
    "            column1.append(records[i])\n",
    "\n",
    "column2 = []\n",
    "for i in range(0,len(records)):\n",
    "        if (i-1)%3 == 0:\n",
    "            column2.append(records[i])\n",
    "\n",
    "column3 = []\n",
    "for i in range(0,len(records)):\n",
    "        if (i-2)%3 == 0:\n",
    "            column3.append(records[i])\n",
    "\n",
    "records_arranged = list(zip(column1, column2, column3))\n",
    "records_arranged[:3]\n"
   ]
  },
  {
   "cell_type": "markdown",
   "metadata": {},
   "source": [
    "# Acessing Data Frames"
   ]
  },
  {
   "cell_type": "code",
   "execution_count": 12,
   "metadata": {},
   "outputs": [
    {
     "data": {
      "text/html": [
       "<div>\n",
       "<style scoped>\n",
       "    .dataframe tbody tr th:only-of-type {\n",
       "        vertical-align: middle;\n",
       "    }\n",
       "\n",
       "    .dataframe tbody tr th {\n",
       "        vertical-align: top;\n",
       "    }\n",
       "\n",
       "    .dataframe thead th {\n",
       "        text-align: right;\n",
       "    }\n",
       "</style>\n",
       "<table border=\"1\" class=\"dataframe\">\n",
       "  <thead>\n",
       "    <tr style=\"text-align: right;\">\n",
       "      <th></th>\n",
       "      <th>PostalCode</th>\n",
       "      <th>Borough</th>\n",
       "      <th>Neighborhood</th>\n",
       "    </tr>\n",
       "  </thead>\n",
       "  <tbody>\n",
       "    <tr>\n",
       "      <th>2</th>\n",
       "      <td>M3A</td>\n",
       "      <td>North York</td>\n",
       "      <td>Parkwoods</td>\n",
       "    </tr>\n",
       "    <tr>\n",
       "      <th>3</th>\n",
       "      <td>M4A</td>\n",
       "      <td>North York</td>\n",
       "      <td>Victoria Village</td>\n",
       "    </tr>\n",
       "    <tr>\n",
       "      <th>4</th>\n",
       "      <td>M5A</td>\n",
       "      <td>Downtown Toronto</td>\n",
       "      <td>Harbourfront</td>\n",
       "    </tr>\n",
       "    <tr>\n",
       "      <th>5</th>\n",
       "      <td>M5A</td>\n",
       "      <td>Downtown Toronto</td>\n",
       "      <td>Regent Park</td>\n",
       "    </tr>\n",
       "    <tr>\n",
       "      <th>6</th>\n",
       "      <td>M6A</td>\n",
       "      <td>North York</td>\n",
       "      <td>Lawrence Heights</td>\n",
       "    </tr>\n",
       "  </tbody>\n",
       "</table>\n",
       "</div>"
      ],
      "text/plain": [
       "  PostalCode           Borough      Neighborhood\n",
       "2        M3A        North York         Parkwoods\n",
       "3        M4A        North York  Victoria Village\n",
       "4        M5A  Downtown Toronto      Harbourfront\n",
       "5        M5A  Downtown Toronto       Regent Park\n",
       "6        M6A        North York  Lawrence Heights"
      ]
     },
     "execution_count": 12,
     "metadata": {},
     "output_type": "execute_result"
    }
   ],
   "source": [
    "df = pd.DataFrame.from_records(records_arranged, columns=labels)\n",
    "df = df[df[\"Borough\"] != \"Not assigned\"]\n",
    "df.head()"
   ]
  },
  {
   "cell_type": "code",
   "execution_count": 13,
   "metadata": {},
   "outputs": [
    {
     "data": {
      "text/html": [
       "<div>\n",
       "<style scoped>\n",
       "    .dataframe tbody tr th:only-of-type {\n",
       "        vertical-align: middle;\n",
       "    }\n",
       "\n",
       "    .dataframe tbody tr th {\n",
       "        vertical-align: top;\n",
       "    }\n",
       "\n",
       "    .dataframe thead th {\n",
       "        text-align: right;\n",
       "    }\n",
       "</style>\n",
       "<table border=\"1\" class=\"dataframe\">\n",
       "  <thead>\n",
       "    <tr style=\"text-align: right;\">\n",
       "      <th></th>\n",
       "      <th>Borough</th>\n",
       "      <th>Neighborhood</th>\n",
       "    </tr>\n",
       "    <tr>\n",
       "      <th>PostalCode</th>\n",
       "      <th></th>\n",
       "      <th></th>\n",
       "    </tr>\n",
       "  </thead>\n",
       "  <tbody>\n",
       "    <tr>\n",
       "      <th>M1B</th>\n",
       "      <td>Scarborough</td>\n",
       "      <td>Rouge, Malvern</td>\n",
       "    </tr>\n",
       "    <tr>\n",
       "      <th>M1C</th>\n",
       "      <td>Scarborough</td>\n",
       "      <td>Highland Creek, Rouge Hill, Port Union</td>\n",
       "    </tr>\n",
       "    <tr>\n",
       "      <th>M1E</th>\n",
       "      <td>Scarborough</td>\n",
       "      <td>Guildwood, Morningside, West Hill</td>\n",
       "    </tr>\n",
       "    <tr>\n",
       "      <th>M1G</th>\n",
       "      <td>Scarborough</td>\n",
       "      <td>Woburn</td>\n",
       "    </tr>\n",
       "  </tbody>\n",
       "</table>\n",
       "</div>"
      ],
      "text/plain": [
       "                Borough                            Neighborhood\n",
       "PostalCode                                                     \n",
       "M1B         Scarborough                          Rouge, Malvern\n",
       "M1C         Scarborough  Highland Creek, Rouge Hill, Port Union\n",
       "M1E         Scarborough       Guildwood, Morningside, West Hill\n",
       "M1G         Scarborough                                  Woburn"
      ]
     },
     "execution_count": 13,
     "metadata": {},
     "output_type": "execute_result"
    }
   ],
   "source": [
    "customjoin = lambda a: \", \".join(a) \n",
    "onereturn= lambda a: \",\".join(a).rsplit(\",\")[0]\n",
    "df_final = df.groupby('PostalCode').agg({'Borough': onereturn, 'Neighborhood': customjoin})\n",
    "\n",
    "df_final.head(4)"
   ]
  },
  {
   "cell_type": "code",
   "execution_count": 14,
   "metadata": {},
   "outputs": [
    {
     "data": {
      "text/html": [
       "<div>\n",
       "<style scoped>\n",
       "    .dataframe tbody tr th:only-of-type {\n",
       "        vertical-align: middle;\n",
       "    }\n",
       "\n",
       "    .dataframe tbody tr th {\n",
       "        vertical-align: top;\n",
       "    }\n",
       "\n",
       "    .dataframe thead th {\n",
       "        text-align: right;\n",
       "    }\n",
       "</style>\n",
       "<table border=\"1\" class=\"dataframe\">\n",
       "  <thead>\n",
       "    <tr style=\"text-align: right;\">\n",
       "      <th></th>\n",
       "      <th>PostalCode</th>\n",
       "      <th>Borough</th>\n",
       "      <th>Neighborhood</th>\n",
       "    </tr>\n",
       "  </thead>\n",
       "  <tbody>\n",
       "    <tr>\n",
       "      <th>0</th>\n",
       "      <td>M1B</td>\n",
       "      <td>Scarborough</td>\n",
       "      <td>Rouge, Malvern</td>\n",
       "    </tr>\n",
       "    <tr>\n",
       "      <th>1</th>\n",
       "      <td>M1C</td>\n",
       "      <td>Scarborough</td>\n",
       "      <td>Highland Creek, Rouge Hill, Port Union</td>\n",
       "    </tr>\n",
       "    <tr>\n",
       "      <th>2</th>\n",
       "      <td>M1E</td>\n",
       "      <td>Scarborough</td>\n",
       "      <td>Guildwood, Morningside, West Hill</td>\n",
       "    </tr>\n",
       "    <tr>\n",
       "      <th>3</th>\n",
       "      <td>M1G</td>\n",
       "      <td>Scarborough</td>\n",
       "      <td>Woburn</td>\n",
       "    </tr>\n",
       "    <tr>\n",
       "      <th>4</th>\n",
       "      <td>M1H</td>\n",
       "      <td>Scarborough</td>\n",
       "      <td>Cedarbrae</td>\n",
       "    </tr>\n",
       "  </tbody>\n",
       "</table>\n",
       "</div>"
      ],
      "text/plain": [
       "  PostalCode      Borough                            Neighborhood\n",
       "0        M1B  Scarborough                          Rouge, Malvern\n",
       "1        M1C  Scarborough  Highland Creek, Rouge Hill, Port Union\n",
       "2        M1E  Scarborough       Guildwood, Morningside, West Hill\n",
       "3        M1G  Scarborough                                  Woburn\n",
       "4        M1H  Scarborough                               Cedarbrae"
      ]
     },
     "execution_count": 14,
     "metadata": {},
     "output_type": "execute_result"
    }
   ],
   "source": [
    "df_final=df_final.reindex(columns=['Borough', 'Neighborhood'])\n",
    "df_final = df_final.reset_index()\n",
    "df_final.head()"
   ]
  },
  {
   "cell_type": "markdown",
   "metadata": {},
   "source": [
    "# Gaining access to the Geospatial data"
   ]
  },
  {
   "cell_type": "code",
   "execution_count": 15,
   "metadata": {},
   "outputs": [
    {
     "name": "stdout",
     "output_type": "stream",
     "text": [
      "--2018-12-24 21:56:31--  https://cocl.us/Geospatial_data\n",
      "Resolving cocl.us (cocl.us)... 169.48.113.201\n",
      "Connecting to cocl.us (cocl.us)|169.48.113.201|:443... connected.\n",
      "HTTP request sent, awaiting response... 301 Moved Permanently\n",
      "Location: https://ibm.box.com/shared/static/9afzr83pps4pwf2smjjcf1y5mvgb18rr.csv [following]\n",
      "--2018-12-24 21:56:34--  https://ibm.box.com/shared/static/9afzr83pps4pwf2smjjcf1y5mvgb18rr.csv\n",
      "Resolving ibm.box.com (ibm.box.com)... 107.152.26.197\n",
      "Connecting to ibm.box.com (ibm.box.com)|107.152.26.197|:443... connected.\n",
      "HTTP request sent, awaiting response... 301 Moved Permanently\n",
      "Location: https://ibm.ent.box.com/shared/static/9afzr83pps4pwf2smjjcf1y5mvgb18rr.csv [following]\n",
      "--2018-12-24 21:56:35--  https://ibm.ent.box.com/shared/static/9afzr83pps4pwf2smjjcf1y5mvgb18rr.csv\n",
      "Resolving ibm.ent.box.com (ibm.ent.box.com)... 107.152.26.211\n",
      "Connecting to ibm.ent.box.com (ibm.ent.box.com)|107.152.26.211|:443... connected.\n",
      "HTTP request sent, awaiting response... 302 Found\n",
      "Location: https://public.boxcloud.com/d/1/b1!03RSSaxX3TJJqfZYnuT065y6wZxnFjQ-4PZt9yhJM1RYcYQmmyKI1-iq5AMo6zlSNpvWihOsdMzo5z9ydZavl5zBfrZ6FgrUeIixC3ViVJjm8Ui-0X8U83GJQQxofozUFAIfh_gP0Ld4IYLMC1PWeUnoZObFj6DHc5RkkTbWOIE1G6smdH5wiwMprhXAv79zQasOgBs_JDX-Nf-HC-_am4UJBieFVF7STmyiaE_XA7gJfnVfkbd3f9JiuJHrQJ8ja-2UzMniws4q2EFbdIEUO26Dk-yYdGiNOL353PTr5LyGogoi0WbkWHLJDktIpRfXACYRzVvcNQYCDqI-KQswvgxjS-9LQtPjm9bkXqy7OAyl6oEF8S0MQYDR2xV4zCriGBtLkzPGx9hH3i6nfKw9CRa24wsykRVL0GOm-gtr6lJxcAOWx7abBAOObVtBU6x7PCKEZvX_Fvsw68JYZ4jqC_u8v0q87oR98MoBr7_rKZbq0EqxT5xd5bpxm-_gbFy53o-9R4Gdn86f756hKGo0SyOzurV_znrWpW91I5LHHH_wo841kvPOQeYgZWfmYX3Ff0g-DMCAQjYZTJAKUzKY7okBcQ3R3MHS1TPoKWP6RJzlyrsjNwyUhXUsI1FqOIGKJp25btLIPQtKRU7KlGZD3mVXEtGGDH6XnJsZchVxLWdXJ93MM6r0yKVZWuH4oEZK4fwXBiki8p59KPHXlSd5H9Pe67j6F_Xjb5q6c9wiAKbCj_ZRQJMHVlSP3uu3V8-6Q8ZvA7-juQvShKMHB1cuql6DbHdrYN0jNjZKElf0_yRHJ5l_Q-90ELd2BdmkT-CEZwUxNgAQcZXj-vo9XI29M98CoWILfkK534tTh2ESXTLJ13HevT-VeVGbSPjUHVzQfUy9kTRfclDqxJZqFWhbGyrraNK1Mt0Wup95DGu7j9LHUVyHNvfZSvVqjuZdd1M8r2hY4RuLR8qQThAdo4nE_oFDkuA_qB-qs_nOi2qmBUXrefhAeuaGvhbThuVMPz4HnqN_fsu7IaLHPxlj6VYaiIQ5gDltwB_g_2qbfkYRk29VVJUogT61RNkuQ8KvTdcec_2YsJxS2EEYIlaOtNgFVY3HcxZBhJv-3lb_w6WA1rIaPtehTkG6ZlsII2n-4U0fFh25BXwqIctoM4xRdSBrLY9kU2VYsHXjj7AKl4xwwNd5XS91mYYHVB5W2Kg3lj-wLSleQMvfHIoFOrV_-Z-4NxRJgeiPRon6RtYt3qO682QnbwTwTxSEjwOEEZuVe1er-61LN3yB7ISdlmaoGIcEmcnSDpByClMP_qRoDbYXOjs3swM-alvrsId2eC5go-m_7CYRRrvFndO3JfSMd1rGO3N_6TLKKdy0j6kD7NsFrFbwmqLd/download [following]\n",
      "--2018-12-24 21:56:35--  https://public.boxcloud.com/d/1/b1!03RSSaxX3TJJqfZYnuT065y6wZxnFjQ-4PZt9yhJM1RYcYQmmyKI1-iq5AMo6zlSNpvWihOsdMzo5z9ydZavl5zBfrZ6FgrUeIixC3ViVJjm8Ui-0X8U83GJQQxofozUFAIfh_gP0Ld4IYLMC1PWeUnoZObFj6DHc5RkkTbWOIE1G6smdH5wiwMprhXAv79zQasOgBs_JDX-Nf-HC-_am4UJBieFVF7STmyiaE_XA7gJfnVfkbd3f9JiuJHrQJ8ja-2UzMniws4q2EFbdIEUO26Dk-yYdGiNOL353PTr5LyGogoi0WbkWHLJDktIpRfXACYRzVvcNQYCDqI-KQswvgxjS-9LQtPjm9bkXqy7OAyl6oEF8S0MQYDR2xV4zCriGBtLkzPGx9hH3i6nfKw9CRa24wsykRVL0GOm-gtr6lJxcAOWx7abBAOObVtBU6x7PCKEZvX_Fvsw68JYZ4jqC_u8v0q87oR98MoBr7_rKZbq0EqxT5xd5bpxm-_gbFy53o-9R4Gdn86f756hKGo0SyOzurV_znrWpW91I5LHHH_wo841kvPOQeYgZWfmYX3Ff0g-DMCAQjYZTJAKUzKY7okBcQ3R3MHS1TPoKWP6RJzlyrsjNwyUhXUsI1FqOIGKJp25btLIPQtKRU7KlGZD3mVXEtGGDH6XnJsZchVxLWdXJ93MM6r0yKVZWuH4oEZK4fwXBiki8p59KPHXlSd5H9Pe67j6F_Xjb5q6c9wiAKbCj_ZRQJMHVlSP3uu3V8-6Q8ZvA7-juQvShKMHB1cuql6DbHdrYN0jNjZKElf0_yRHJ5l_Q-90ELd2BdmkT-CEZwUxNgAQcZXj-vo9XI29M98CoWILfkK534tTh2ESXTLJ13HevT-VeVGbSPjUHVzQfUy9kTRfclDqxJZqFWhbGyrraNK1Mt0Wup95DGu7j9LHUVyHNvfZSvVqjuZdd1M8r2hY4RuLR8qQThAdo4nE_oFDkuA_qB-qs_nOi2qmBUXrefhAeuaGvhbThuVMPz4HnqN_fsu7IaLHPxlj6VYaiIQ5gDltwB_g_2qbfkYRk29VVJUogT61RNkuQ8KvTdcec_2YsJxS2EEYIlaOtNgFVY3HcxZBhJv-3lb_w6WA1rIaPtehTkG6ZlsII2n-4U0fFh25BXwqIctoM4xRdSBrLY9kU2VYsHXjj7AKl4xwwNd5XS91mYYHVB5W2Kg3lj-wLSleQMvfHIoFOrV_-Z-4NxRJgeiPRon6RtYt3qO682QnbwTwTxSEjwOEEZuVe1er-61LN3yB7ISdlmaoGIcEmcnSDpByClMP_qRoDbYXOjs3swM-alvrsId2eC5go-m_7CYRRrvFndO3JfSMd1rGO3N_6TLKKdy0j6kD7NsFrFbwmqLd/download\n",
      "Resolving public.boxcloud.com (public.boxcloud.com)... 107.152.24.200, 107.152.25.200\n",
      "Connecting to public.boxcloud.com (public.boxcloud.com)|107.152.24.200|:443... connected.\n",
      "HTTP request sent, awaiting response... 200 OK\n",
      "Length: 2891 (2.8K) [text/csv]\n",
      "Saving to: ‘geospatial.csv’\n",
      "\n",
      "geospatial.csv      100%[=====================>]   2.82K  --.-KB/s   in 0s     \n",
      "\n",
      "2018-12-24 21:56:36 (41.1 MB/s) - ‘geospatial.csv’ saved [2891/2891]\n",
      "\n"
     ]
    }
   ],
   "source": [
    "!wget -O geospatial.csv https://cocl.us/Geospatial_data"
   ]
  },
  {
   "cell_type": "markdown",
   "metadata": {},
   "source": [
    "# Creating geofd"
   ]
  },
  {
   "cell_type": "code",
   "execution_count": 17,
   "metadata": {},
   "outputs": [],
   "source": [
    "geodf = pd.read_csv('geospatial.csv')"
   ]
  },
  {
   "cell_type": "markdown",
   "metadata": {},
   "source": [
    "# Creating data frames with geofd"
   ]
  },
  {
   "cell_type": "code",
   "execution_count": 19,
   "metadata": {},
   "outputs": [
    {
     "data": {
      "text/html": [
       "<div>\n",
       "<style scoped>\n",
       "    .dataframe tbody tr th:only-of-type {\n",
       "        vertical-align: middle;\n",
       "    }\n",
       "\n",
       "    .dataframe tbody tr th {\n",
       "        vertical-align: top;\n",
       "    }\n",
       "\n",
       "    .dataframe thead th {\n",
       "        text-align: right;\n",
       "    }\n",
       "</style>\n",
       "<table border=\"1\" class=\"dataframe\">\n",
       "  <thead>\n",
       "    <tr style=\"text-align: right;\">\n",
       "      <th></th>\n",
       "      <th>PostalCode</th>\n",
       "      <th>Latitude</th>\n",
       "      <th>Longitude</th>\n",
       "    </tr>\n",
       "  </thead>\n",
       "  <tbody>\n",
       "    <tr>\n",
       "      <th>0</th>\n",
       "      <td>M1B</td>\n",
       "      <td>43.806686</td>\n",
       "      <td>-79.194353</td>\n",
       "    </tr>\n",
       "    <tr>\n",
       "      <th>1</th>\n",
       "      <td>M1C</td>\n",
       "      <td>43.784535</td>\n",
       "      <td>-79.160497</td>\n",
       "    </tr>\n",
       "    <tr>\n",
       "      <th>2</th>\n",
       "      <td>M1E</td>\n",
       "      <td>43.763573</td>\n",
       "      <td>-79.188711</td>\n",
       "    </tr>\n",
       "    <tr>\n",
       "      <th>3</th>\n",
       "      <td>M1G</td>\n",
       "      <td>43.770992</td>\n",
       "      <td>-79.216917</td>\n",
       "    </tr>\n",
       "    <tr>\n",
       "      <th>4</th>\n",
       "      <td>M1H</td>\n",
       "      <td>43.773136</td>\n",
       "      <td>-79.239476</td>\n",
       "    </tr>\n",
       "  </tbody>\n",
       "</table>\n",
       "</div>"
      ],
      "text/plain": [
       "  PostalCode   Latitude  Longitude\n",
       "0        M1B  43.806686 -79.194353\n",
       "1        M1C  43.784535 -79.160497\n",
       "2        M1E  43.763573 -79.188711\n",
       "3        M1G  43.770992 -79.216917\n",
       "4        M1H  43.773136 -79.239476"
      ]
     },
     "execution_count": 19,
     "metadata": {},
     "output_type": "execute_result"
    }
   ],
   "source": [
    "geodf.rename(index=str, columns={\"Postal Code\": \"PostalCode\"}, inplace=True)\n",
    "geodf.head()"
   ]
  },
  {
   "cell_type": "code",
   "execution_count": null,
   "metadata": {},
   "outputs": [],
   "source": [
    "!conda install -c conda-forge folium=0.5.0 --yes \n",
    "import folium\n",
    "from geopy.geocoders import Nominatim\n",
    "address = 'Toronto'\n",
    "\n",
    "geolocator = Nominatim()\n",
    "location = geolocator.geocode(address)\n",
    "latitude = location.latitude\n",
    "longitude = location.longitude"
   ]
  },
  {
   "cell_type": "code",
   "execution_count": null,
   "metadata": {},
   "outputs": [],
   "source": [
    "map_toronto = folium.Map(location=[latitude, longitude], zoom_start=10)\n",
    "\n",
    "# add markers to map\n",
    "for lat, lng, borough, neighborhood in zip(df['Latitude'], df['Longitude'], df['Borough'], df['Neighborhood']):\n",
    "    label = '{}, {}'.format(neighborhood, borough)\n",
    "    label = folium.Popup(label, parse_html=True)\n",
    "    folium.CircleMarker(\n",
    "        [lat, lng],\n",
    "        radius=5,\n",
    "        popup=label,\n",
    "        color='blue',\n",
    "        fill=True,\n",
    "        fill_color='#3186cc',\n",
    "        fill_opacity=0.7,\n",
    "        parse_html=False).add_to(map_toronto)"
   ]
  },
  {
   "cell_type": "code",
   "execution_count": null,
   "metadata": {},
   "outputs": [],
   "source": []
  }
 ],
 "metadata": {
  "kernelspec": {
   "display_name": "Python 3",
   "language": "python",
   "name": "python3"
  },
  "language_info": {
   "codemirror_mode": {
    "name": "ipython",
    "version": 3
   },
   "file_extension": ".py",
   "mimetype": "text/x-python",
   "name": "python",
   "nbconvert_exporter": "python",
   "pygments_lexer": "ipython3",
   "version": "3.6.6"
  }
 },
 "nbformat": 4,
 "nbformat_minor": 2
}
