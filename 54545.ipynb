{
 "cells": [
  {
   "cell_type": "markdown",
   "metadata": {},
   "source": [
    "# Data Usage"
   ]
  },
  {
   "cell_type": "markdown",
   "metadata": {},
   "source": [
    "### The data being used will be used to find out where traffic lights will be most effective to the public. Data collected will consist of population within parts of New York City, number of stop signs within parts of the city, number of speed bumps, number of traffic lights that are already in effect, the average speed limit that is traveled on a single road, the posted speed limit on a single road, the number of businesses/incorporations in a single area, and all other factors that may affect the placement of traffic lights. The data does not have to be exact, in fact in can almost not be accurate at all, as long as there is an increase in the amount of traffic lights. It is a matter of if the data is put to full use and whether changes occur in the tested environment. The Foursquare Location data will be helpful in finding the distance between to points in the city. The distance can then be used to find the average speed limit by creating a speed interval, which would be represented for all the vehicles. The idea is that roads that have faster speed limit would have less traffic lights,(Highways, Interstates, etc), the roads with slower speeds would have more traffic lights as "
   ]
  }
 ],
 "metadata": {
  "kernelspec": {
   "display_name": "Python 3",
   "language": "python",
   "name": "python3"
  },
  "language_info": {
   "codemirror_mode": {
    "name": "ipython",
    "version": 3
   },
   "file_extension": ".py",
   "mimetype": "text/x-python",
   "name": "python",
   "nbconvert_exporter": "python",
   "pygments_lexer": "ipython3",
   "version": "3.6.6"
  }
 },
 "nbformat": 4,
 "nbformat_minor": 2
}
